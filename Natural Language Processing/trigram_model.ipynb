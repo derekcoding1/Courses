{
 "cells": [
  {
   "cell_type": "markdown",
   "metadata": {},
   "source": [
    "### Part 1 - extracting n-grams from a sentence"
   ]
  },
  {
   "cell_type": "code",
   "execution_count": 81,
   "metadata": {},
   "outputs": [],
   "source": [
    "class NotPositiveError(Exception):\n",
    "    def __init__(self, expression):\n",
    "        self.expression = expression\n",
    "        \n",
    "def get_ngrams(strings, n):\n",
    "    if n <= 0:\n",
    "        raise NotPositiveError(\"n has to be positive\")\n",
    "    strings.insert(0,\"START\")\n",
    "    strings.append(\"STOP\")\n",
    "    if n > 2:\n",
    "        for i in range(n - 2):\n",
    "            strings.insert(0,\"START\") \n",
    "    grams = []\n",
    "    for i in range(len(strings)-n+1):\n",
    "        a = strings[i:i+n]\n",
    "        a = convert(a)\n",
    "        grams.append(a)\n",
    "    strings.remove(\"STOP\")\n",
    "    try:\n",
    "        while True:\n",
    "            strings.remove(\"START\")\n",
    "    except ValueError:\n",
    "        pass\n",
    "    finally:\n",
    "        return grams"
   ]
  },
  {
   "cell_type": "code",
   "execution_count": 82,
   "metadata": {},
   "outputs": [],
   "source": [
    "import trigram_model"
   ]
  },
  {
   "cell_type": "code",
   "execution_count": null,
   "metadata": {},
   "outputs": [],
   "source": []
  },
  {
   "cell_type": "code",
   "execution_count": null,
   "metadata": {},
   "outputs": [],
   "source": []
  }
 ],
 "metadata": {
  "kernelspec": {
   "display_name": "python37",
   "language": "python",
   "name": "python37"
  },
  "language_info": {
   "codemirror_mode": {
    "name": "ipython",
    "version": 3
   },
   "file_extension": ".py",
   "mimetype": "text/x-python",
   "name": "python",
   "nbconvert_exporter": "python",
   "pygments_lexer": "ipython3",
   "version": "3.7.4"
  }
 },
 "nbformat": 4,
 "nbformat_minor": 2
}
